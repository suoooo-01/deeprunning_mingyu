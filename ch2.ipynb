{
 "cells": [
  {
   "cell_type": "markdown",
   "id": "3c78d32b-590a-4cf2-a2a1-47561b465a1d",
   "metadata": {},
   "source": [
    "# 밑바닥부터 시작하는 딥러닝"
   ]
  },
  {
   "cell_type": "markdown",
   "id": "5a961b4b-c5c5-4431-95c1-5a8a92cb176d",
   "metadata": {},
   "source": [
    "## 2.3.1 간단한 구현부터"
   ]
  },
  {
   "cell_type": "code",
   "execution_count": 4,
   "id": "326c6b68-f029-4ace-a800-f20cc6953d83",
   "metadata": {},
   "outputs": [
    {
     "name": "stdout",
     "output_type": "stream",
     "text": [
      "0\n",
      "0\n",
      "0\n",
      "1\n"
     ]
    }
   ],
   "source": [
    "def AND(x1, x2):\n",
    "    w1, w2, theta = 0.5, 0.5, 0.7\n",
    "    tmp = x1*w1 + x2*w2\n",
    "    if tmp <= theta:\n",
    "        return 0\n",
    "    elif tmp > theta:\n",
    "        return 1\n",
    "print(AND(0, 0))\n",
    "print(AND(1, 0))\n",
    "print(AND(0, 1))\n",
    "print(AND(1, 1))"
   ]
  },
  {
   "cell_type": "markdown",
   "id": "3d0520fa-8633-4dd8-8fd1-67c57390b792",
   "metadata": {},
   "source": [
    "## 2.3.2 가중치와 편향 도입"
   ]
  },
  {
   "cell_type": "code",
   "execution_count": 7,
   "id": "fea0d4c6-1c05-47b9-bc21-f2c476bebf1b",
   "metadata": {},
   "outputs": [
    {
     "name": "stdout",
     "output_type": "stream",
     "text": [
      "[0.  0.5]\n",
      "0.5\n",
      "-0.19999999999999996\n"
     ]
    }
   ],
   "source": [
    "import numpy as np\n",
    "x=np.array([0, 1]) # 입력\n",
    "w=np.array([0.5, 0.5]) # 가중치\n",
    "b=-0.7 # 편향\n",
    "\n",
    "print(w*x)\n",
    "print(np.sum(w*x))\n",
    "print(np.sum(w*x)+b)"
   ]
  },
  {
   "cell_type": "code",
   "execution_count": 19,
   "id": "248728e4-4a40-4a3a-8fad-ee150a963098",
   "metadata": {},
   "outputs": [
    {
     "name": "stdout",
     "output_type": "stream",
     "text": [
      "0\n",
      "1\n",
      "1\n",
      "1\n"
     ]
    }
   ],
   "source": [
    "def AND(x1, x2):\n",
    "    x=np.array([x1, x2])\n",
    "    w=np.array([0.5, 0.5])\n",
    "    b=-0.7\n",
    "    tmp=np.sum(w*x) + b\n",
    "    if tmp <= 0:\n",
    "        return 0\n",
    "    else:\n",
    "        return 1\n",
    "        \n",
    "def NAND(x1, x2):\n",
    "    x=np.array([x1, x2])\n",
    "    w= np.array([-0.5, 0.5]) # AND와는 가중치(w와 b)만 다르다!\n",
    "    b = 0.7\n",
    "    tmp = np.sum(w*x) + b\n",
    "    if tmp <= 0: \n",
    "        return 0\n",
    "    else:\n",
    "        return 1\n",
    "        \n",
    "def OR(x1, x2):\n",
    "    x=np.array([x1, x2])\n",
    "    w=np.array([0.5, 0.5]) # AND와는 가중치(w와 b)만 다르다!\n",
    "    b=-0.2\n",
    "    tmp = np. sum(w*x) + b\n",
    "    if tmp <= 0:\n",
    "        return 0\n",
    "    else:\n",
    "        return 1\n",
    "        \n",
    "def XOR(x1, x2):\n",
    "    s1=NAND(x1, x2)\n",
    "    s2=OR(x1, x2)\n",
    "    y=AND(s1, s2)\n",
    "    return y\n",
    "    \n",
    "print(XOR(0, 0))\n",
    "print(XOR(1, 0))\n",
    "print(XOR(0, 1))\n",
    "print(XOR(1, 1))"
   ]
  },
  {
   "cell_type": "code",
   "execution_count": null,
   "id": "0d000f7a-7f29-4f90-92e1-edfec048da4b",
   "metadata": {},
   "outputs": [],
   "source": []
  }
 ],
 "metadata": {
  "kernelspec": {
   "display_name": "Python 3 (ipykernel)",
   "language": "python",
   "name": "python3"
  },
  "language_info": {
   "codemirror_mode": {
    "name": "ipython",
    "version": 3
   },
   "file_extension": ".py",
   "mimetype": "text/x-python",
   "name": "python",
   "nbconvert_exporter": "python",
   "pygments_lexer": "ipython3",
   "version": "3.12.2"
  }
 },
 "nbformat": 4,
 "nbformat_minor": 5
}
